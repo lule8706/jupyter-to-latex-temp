{
 "cells": [
  {
   "cell_type": "code",
   "execution_count": null,
   "id": "682ca5e7-8f70-4323-a3b4-2633de6b14c0",
   "metadata": {},
   "outputs": [],
   "source": [
    "%matplotlib inline\n",
    "import matplotlib.pyplot as plt\n",
    "plt.rcParams.update({\n",
    "    \"text:usetex\": True,\n",
    "    \"font.family\": \"serif\",\n",
    "    \"font.serif\": [\"Palatino\"],\n",
    "})\n",
    "\n",
    "from matplotlib_inline.backend_inline import set_matplotlib_formats\n",
    "set_matplotlib_formats('png', 'pdf')"
   ]
  },
  {
   "cell_type": "markdown",
   "id": "4f6ca314-e4a6-49ab-adeb-59f0be78ce31",
   "metadata": {},
   "source": [
    "# First section name"
   ]
  },
  {
   "cell_type": "markdown",
   "id": "739edc28-09a2-4f72-ae7f-1189a3c32ed6",
   "metadata": {},
   "source": [
    "Some text"
   ]
  },
  {
   "cell_type": "markdown",
   "id": "d4394b54-bb7e-47b0-aeb8-d49b94fb752f",
   "metadata": {},
   "source": [
    "## First subsection name"
   ]
  },
  {
   "cell_type": "markdown",
   "id": "087f4ab9-fc2c-45e2-92d9-466a825758cd",
   "metadata": {},
   "source": [
    "Some more text"
   ]
  },
  {
   "cell_type": "code",
   "execution_count": null,
   "id": "d4418314-5129-41b3-9632-302df44d6931",
   "metadata": {},
   "outputs": [],
   "source": []
  }
 ],
 "metadata": {
  "kernelspec": {
   "display_name": "Python 3 (ipykernel)",
   "language": "python",
   "name": "python3"
  },
  "language_info": {
   "codemirror_mode": {
    "name": "ipython",
    "version": 3
   },
   "file_extension": ".py",
   "mimetype": "text/x-python",
   "name": "python",
   "nbconvert_exporter": "python",
   "pygments_lexer": "ipython3",
   "version": "3.9.5"
  },
  "toc-autonumbering": true
 },
 "nbformat": 4,
 "nbformat_minor": 5
}
